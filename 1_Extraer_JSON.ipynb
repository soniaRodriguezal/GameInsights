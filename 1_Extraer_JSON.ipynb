{
 "cells": [
  {
   "cell_type": "markdown",
   "metadata": {},
   "source": [
    "Vamos a extraer los archivos json con los diccionarios que contienen la información de los jeugos de distintas plataformas de la web https://www.mobygames.com/ Para poder acceder a estos json, necesitamos hacernos una cuenta de usuario."
   ]
  },
  {
   "cell_type": "code",
   "execution_count": 1,
   "metadata": {},
   "outputs": [],
   "source": [
    "from selenium import webdriver\n",
    "from selenium.webdriver.support.ui import WebDriverWait   # para meter esperas\n",
    "from selenium.webdriver.support import expected_conditions as EC   # para esperar ciertos eventos\n",
    "from selenium.webdriver import ActionChains # para hacer acciones con el ratón\n",
    "import selenium.webdriver.common.keys as Keys # para simular teclas\n",
    "from webdriver_manager.chrome import ChromeDriverManager # sustituye al archivo\n",
    "from selenium.webdriver.chrome.options import Options # opciones de chrome\n",
    "from selenium.webdriver.common.by import By # By es para buscar por tag, clase, id...\n",
    "\n",
    "from selenium.common.exceptions import NoSuchElementException\n",
    "\n",
    "import requests\n",
    "import json\n",
    "import time\n",
    "import random"
   ]
  },
  {
   "cell_type": "code",
   "execution_count": 2,
   "metadata": {},
   "outputs": [],
   "source": [
    "# Configurar las opciones del navegador para especificar la carpeta de descargas\n",
    "download_dir = r\"C:\\Users\\XXXX\" "
   ]
  },
  {
   "cell_type": "code",
   "execution_count": 3,
   "metadata": {},
   "outputs": [],
   "source": [
    "# Configurar las opciones del navegador\n",
    "chrome_options = webdriver.ChromeOptions()\n",
    "\n",
    "# Agregar las opciones adicionales\n",
    "chrome_options.add_argument('--start-maximized')\n",
    "# chrome_options.add_argument('window-size=775,1400')\n",
    "chrome_options.add_argument('--disable-extensions')\n",
    "chrome_options.add_argument('--disable-blink-features=AutomationControlled')\n",
    "chrome_options.add_argument('--no-sandbox')\n",
    "chrome_options.add_argument(\"--disable-dev-shm-usage\")\n",
    "chrome_options.add_experimental_option('useAutomationExtension', False)\n",
    "chrome_options.add_experimental_option('excludeSwitches', ['enable-automation'])\n",
    "\n",
    "# Configurar la carpeta de descargas\n",
    "prefs = {\n",
    "    \"download.default_directory\": download_dir,\n",
    "    \"download.prompt_for_download\": False,\n",
    "    \"directory_upgrade\": True,}\n",
    "\n",
    "chrome_options.add_experimental_option(\"prefs\", prefs)\n",
    "\n",
    "# guardar las cookies\n",
    "# opciones.add_argument('user-data-dir=cookies')    # mantiene las cookies\n",
    "# opciones.add_argument('--incognito') # modo incognito"
   ]
  },
  {
   "cell_type": "code",
   "execution_count": 4,
   "metadata": {},
   "outputs": [],
   "source": [
    "url ='https://www.mobygames.com/mobypro/downloads//' \n",
    "driver = webdriver.Chrome(options=chrome_options)\n",
    "driver.get(url)"
   ]
  },
  {
   "cell_type": "code",
   "execution_count": 5,
   "metadata": {},
   "outputs": [],
   "source": [
    "#Identificar la caja de nombre de usuario \n",
    "usuario = driver.find_element(By.ID,\"login\")\n",
    "usuario.send_keys(\"XXXX\") \n",
    "time.sleep(2)\n",
    "\n",
    "#Identificar la caja de password   \n",
    "contraseña = driver.find_element(By.ID, \"password\") \n",
    "contraseña.send_keys(\"XXXX\") \n",
    "time.sleep(3)  \n",
    "\n",
    "#click en next button  \n",
    "driver.find_element(By.XPATH,('//*[@id=\"main\"]/form/p/button')).click()  \n",
    "time.sleep(3) "
   ]
  },
  {
   "cell_type": "code",
   "execution_count": 6,
   "metadata": {},
   "outputs": [],
   "source": [
    "links = driver.find_elements(By.XPATH, '//tbody[@id=\"download-results\"]//a[text()=\"JSON\"]')"
   ]
  },
  {
   "cell_type": "code",
   "execution_count": 7,
   "metadata": {},
   "outputs": [
    {
     "data": {
      "text/plain": [
       "329"
      ]
     },
     "execution_count": 7,
     "metadata": {},
     "output_type": "execute_result"
    }
   ],
   "source": [
    "len(links)"
   ]
  },
  {
   "cell_type": "code",
   "execution_count": null,
   "metadata": {},
   "outputs": [],
   "source": [
    "for link in links:\n",
    "    ActionChains(driver).move_to_element(link).click().perform()\n",
    "    time.sleep(2)  # Esperar a que se complete la descarga\n",
    "\n",
    "# Cerrar el navegador\n",
    "driver.quit()"
   ]
  }
 ],
 "metadata": {
  "kernelspec": {
   "display_name": "Python 3",
   "language": "python",
   "name": "python3"
  },
  "language_info": {
   "codemirror_mode": {
    "name": "ipython",
    "version": 3
   },
   "file_extension": ".py",
   "mimetype": "text/x-python",
   "name": "python",
   "nbconvert_exporter": "python",
   "pygments_lexer": "ipython3",
   "version": "3.12.0"
  }
 },
 "nbformat": 4,
 "nbformat_minor": 2
}
