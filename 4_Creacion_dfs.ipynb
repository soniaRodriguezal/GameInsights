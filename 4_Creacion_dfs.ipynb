{
 "cells": [
  {
   "cell_type": "markdown",
   "metadata": {},
   "source": [
    "Creamos diferentes DFs a partir de los json creados con el scrapeo web para mergearlos más adelante."
   ]
  },
  {
   "cell_type": "code",
   "execution_count": null,
   "metadata": {},
   "outputs": [],
   "source": [
    "import json\n",
    "import os\n",
    "import pandas as pd\n",
    "\n",
    "# Ruta del directorio que contiene los archivos JSON filtrados\n",
    "input_directory = r'XXXX'\n",
    "\n",
    "# Obtener la lista de todos los archivos JSON en el directorio\n",
    "files = [f for f in os.listdir(input_directory) if f.endswith('.json')]\n",
    "\n",
    "# Función para extraer el nombre de la plataforma del nombre del archivo y convertirlo a minúsculas\n",
    "def obtener_nombre_plataforma(filename):\n",
    "    start = filename.find('All_') + len('All_')\n",
    "    end = filename.find('_Games')\n",
    "    return filename[start:end].lower()\n",
    "\n",
    "# Procesar cada archivo JSON\n",
    "for file in files:\n",
    "    input_file = os.path.join(input_directory, file)\n",
    "    \n",
    "    try:\n",
    "        # Leer el archivo JSON con codificación utf-8\n",
    "        with open(input_file, 'r', encoding='utf-8') as f:\n",
    "            data = json.load(f)\n",
    "        \n",
    "        # Convertir los datos en un DataFrame\n",
    "        df = pd.DataFrame(data)\n",
    "        \n",
    "        # Obtener el nombre de la plataforma y convertirlo a minúsculas\n",
    "        plataforma = obtener_nombre_plataforma(file)\n",
    "        \n",
    "        # Asignar el DataFrame a una variable con el nombre de la plataforma\n",
    "        globals()[f'df_{plataforma}'] = df\n",
    "        \n",
    "        print(f\"\\n******DataFrame creado para la plataforma: {plataforma}******\\n\")\n",
    "        print(df.head())  \n",
    "    \n",
    "    except Exception as e:\n",
    "        print(f\"Error al procesar el archivo {file}: {e}\")\n",
    "\n",
    "#Añadir la columna 'platform' a todos los dfs\n",
    "df_nintendo_3ds['platform'] = 'Nintendo 3DS'\n",
    "df_nintendo_switch['platform'] = 'Nintendo Switch'\n",
    "df_playstation_4['platform'] = 'PlayStation 4'\n",
    "df_playstation_5['platform'] = 'PlayStation 5'\n",
    "df_windows['platform'] = 'Windows'\n",
    "df_xbox_360['platform'] = 'Xbox 360'\n",
    "df_xbox_one['platform'] = 'Xbox One'\n",
    "df_xbox_series['platform'] = 'Xbox Series'"
   ]
  },
  {
   "cell_type": "markdown",
   "metadata": {},
   "source": [
    "EXPORTAR DFS A CSV"
   ]
  },
  {
   "cell_type": "code",
   "execution_count": null,
   "metadata": {},
   "outputs": [],
   "source": [
    "# Ruta del directorio donde quieres guardar los archivos CSV\n",
    "output_directory = r'XXXX'\n",
    "\n",
    "# Lista de DataFrames y nombres de archivos correspondientes\n",
    "dataframes = {\n",
    "    'nintendo_3ds.csv': df_nintendo_3ds,\n",
    "    'nintendo_switch.csv': df_nintendo_switch,\n",
    "    'playstation_4.csv': df_playstation_4,\n",
    "    'playstation_5.csv': df_playstation_5,\n",
    "    'windows.csv': df_windows,\n",
    "    'xbox_360.csv': df_xbox_360,\n",
    "    'xbox_one.csv': df_xbox_one,\n",
    "    'xbox_series.csv': df_xbox_series\n",
    "}\n",
    "\n",
    "# Guardar cada DataFrame en un archivo CSV\n",
    "for filename, df in dataframes.items():\n",
    "    output_file = f\"{output_directory}\\\\{filename}\"\n",
    "    df.to_csv(output_file, index=False)\n",
    "    print(f\"DataFrame guardado en '{output_file}'\")"
   ]
  },
  {
   "cell_type": "markdown",
   "metadata": {},
   "source": [
    "JUNTAR DFS"
   ]
  },
  {
   "cell_type": "code",
   "execution_count": null,
   "metadata": {},
   "outputs": [],
   "source": [
    "# Lista de DataFrames\n",
    "dataframes = [\n",
    "    df_nintendo_3ds, \n",
    "    df_nintendo_switch, \n",
    "    df_playstation_4, \n",
    "    df_playstation_5, \n",
    "    df_windows, \n",
    "    df_xbox_360, \n",
    "    df_xbox_one, \n",
    "    df_xbox_series\n",
    "]\n",
    "\n",
    "# Combinar todos los DataFrames en uno solo\n",
    "df = pd.concat(dataframes)\n",
    "\n",
    "# Ruta del directorio donde quieres guardar el archivo CSV\n",
    "output_directory = r'XXXX'\n",
    "output_file = f\"{output_directory}\\\\todos_juegos.csv\"\n",
    "\n",
    "# Guardar el DataFrame combinado en un archivo CSV\n",
    "df.to_csv(output_file, index=False)\n",
    "\n",
    "print(f\"DataFrame combinado guardado en '{output_file}'\")"
   ]
  }
 ],
 "metadata": {
  "kernelspec": {
   "display_name": "Python 3",
   "language": "python",
   "name": "python3"
  },
  "language_info": {
   "codemirror_mode": {
    "name": "ipython",
    "version": 3
   },
   "file_extension": ".py",
   "mimetype": "text/x-python",
   "name": "python",
   "nbconvert_exporter": "python",
   "pygments_lexer": "ipython3",
   "version": "3.12.0"
  }
 },
 "nbformat": 4,
 "nbformat_minor": 2
}
