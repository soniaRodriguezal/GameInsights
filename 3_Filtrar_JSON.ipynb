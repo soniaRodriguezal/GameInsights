{
 "cells": [
  {
   "cell_type": "markdown",
   "metadata": {},
   "source": [
    "Aquí dejo diferentes scripts para filtrar los datos de los json si es necesario antes de pasarlos a un DataFrame (los json son base de datos de más de 70.000 juegos y tal vez nuestro ordenador no tiene capacidad para trabajar con tantos ahora mismo)."
   ]
  },
  {
   "cell_type": "markdown",
   "metadata": {},
   "source": [
    "Filtrar JSON sin 'pack', 'package', 'dlc' o 'moby score' nula"
   ]
  },
  {
   "cell_type": "code",
   "execution_count": null,
   "metadata": {},
   "outputs": [],
   "source": [
    "import json\n",
    "import os\n",
    "\n",
    "# Ruta del directorio que contiene los archivos JSON\n",
    "directory = r'XXXX'\n",
    "\n",
    "# Lista de archivos JSON a procesar\n",
    "files = [\n",
    "    'All_Nintendo_3DS_Games_July_2024.json',\n",
    "    'All_Nintendo_Switch_Games_July_2024.json',\n",
    "    'All_PlayStation_4_Games_July_2024.json',\n",
    "    'All_PlayStation_5_Games_July_2024.json',\n",
    "    'All_Windows_Games_July_2024.json',\n",
    "    'All_Xbox_360_Games_July_2024.json',\n",
    "    'All_Xbox_One_Games_July_2024.json',\n",
    "    'All_Xbox_Series_Games_July_2024.json'\n",
    "]\n",
    "\n",
    "# Definir una función de filtro para eliminar diccionarios con \"pack\", \"package\", \"DLC\" en el título o \"moby_score\" nulo\n",
    "def filtrar_diccionarios(diccionario):\n",
    "    title = diccionario.get('title', '').lower()\n",
    "    moby_score = diccionario.get('moby_score')\n",
    "    return ('pack' not in title and 'package' not in title and 'dlc' not in title and moby_score is not None)\n",
    "\n",
    "# Procesar cada archivo JSON\n",
    "for file in files:\n",
    "    input_file = os.path.join(directory, file)\n",
    "    output_file = os.path.join(directory, file.replace('.json', '_filtrado.json'))\n",
    "    \n",
    "    # Leer el archivo JSON\n",
    "    with open(input_file, 'r') as f:\n",
    "        data = json.load(f)\n",
    "    \n",
    "    # Filtrar la lista de diccionarios\n",
    "    data_filtrada = [d for d in data if filtrar_diccionarios(d)]\n",
    "    \n",
    "    # Guardar los datos filtrados en un nuevo archivo JSON\n",
    "    with open(output_file, 'w') as f:\n",
    "        json.dump(data_filtrada, f, indent=4)\n",
    "    \n",
    "    print(f\"Datos filtrados guardados en '{output_file}'\")\n"
   ]
  },
  {
   "cell_type": "markdown",
   "metadata": {},
   "source": [
    "CON SCORE NULA"
   ]
  },
  {
   "cell_type": "code",
   "execution_count": null,
   "metadata": {},
   "outputs": [],
   "source": [
    "import json\n",
    "import os\n",
    "\n",
    "# Ruta del directorio que contiene los archivos JSON originales\n",
    "input_directory = r'XXXX'\n",
    "\n",
    "# Ruta del directorio donde se guardarán los archivos JSON filtrados\n",
    "output_directory = r'XXXX'\n",
    "\n",
    "# Crear el directorio de salida si no existe\n",
    "os.makedirs(output_directory, exist_ok=True)\n",
    "\n",
    "# Lista de archivos JSON a procesar\n",
    "files = [\n",
    "    'All_Nintendo_3DS_Games_July_2024.json',\n",
    "    'All_Nintendo_Switch_Games_July_2024.json',\n",
    "    'All_PlayStation_4_Games_July_2024.json',\n",
    "    'All_PlayStation_5_Games_July_2024.json',\n",
    "    'All_Windows_Games_July_2024.json',\n",
    "    'All_Xbox_360_Games_July_2024.json',\n",
    "    'All_Xbox_One_Games_July_2024.json',\n",
    "    'All_Xbox_Series_Games_July_2024.json'\n",
    "]\n",
    "\n",
    "# Definir una función de filtro para eliminar diccionarios con \"pack\", \"package\" o \"DLC\" en el título\n",
    "def filtrar_diccionarios(diccionario):\n",
    "    title = diccionario.get('title', '').lower()\n",
    "    return 'pack' not in title and 'package' not in title and 'dlc' not in title\n",
    "\n",
    "# Procesar cada archivo JSON\n",
    "for idx, file in enumerate(files, start=1):\n",
    "    input_file = os.path.join(input_directory, file)\n",
    "    output_file = os.path.join(output_directory, f\"{file.replace('.json', '')}_{idx}.json\")\n",
    "    \n",
    "    # Leer el archivo JSON\n",
    "    with open(input_file, 'r') as f:\n",
    "        data = json.load(f)\n",
    "    \n",
    "    # Filtrar la lista de diccionarios\n",
    "    data_filtrada = [d for d in data if filtrar_diccionarios(d)]\n",
    "    \n",
    "    # Guardar los datos filtrados en un nuevo archivo JSON\n",
    "    with open(output_file, 'w') as f:\n",
    "        json.dump(data_filtrada, f, indent=4)\n",
    "    \n",
    "    print(f\"Datos filtrados guardados en '{output_file}'\")\n"
   ]
  },
  {
   "cell_type": "markdown",
   "metadata": {},
   "source": [
    "Eliminar JSON que no tienen las mismas claves"
   ]
  },
  {
   "cell_type": "code",
   "execution_count": null,
   "metadata": {},
   "outputs": [],
   "source": [
    "import json\n",
    "import os\n",
    "\n",
    "# Ruta del directorio que contiene los archivos JSON originales\n",
    "input_directory = r'XXXX'\n",
    "\n",
    "# Obtener la lista de archivos JSON en el directorio\n",
    "files = [f for f in os.listdir(input_directory) if f.endswith('.json')]\n",
    "\n",
    "# Definir una función de filtro para eliminar diccionarios sin la clave 'Price'\n",
    "def tiene_clave(diccionario, clave):\n",
    "    return clave in diccionario\n",
    "\n",
    "# Procesar cada archivo JSON\n",
    "for file in files:\n",
    "    input_file = os.path.join(input_directory, file)\n",
    "    output_file = os.path.join(input_directory, file.replace('.json', '_diccionariofiltered.json'))\n",
    "    \n",
    "    try:\n",
    "        # Leer el archivo JSON con codificación utf-8\n",
    "        with open(input_file, 'r', encoding='utf-8') as f:\n",
    "            data = json.load(f)\n",
    "        \n",
    "        # Filtrar la lista de diccionarios\n",
    "        clave_requerida = 'Price'\n",
    "        data_filtrada = [d for d in data if tiene_clave(d, clave_requerida)]\n",
    "        \n",
    "        # Guardar los datos filtrados en un nuevo archivo JSON\n",
    "        with open(output_file, 'w', encoding='utf-8') as f:\n",
    "            json.dump(data_filtrada, f, indent=4)\n",
    "        \n",
    "        print(f\"Datos filtrados guardados en '{output_file}'\")\n",
    "    \n",
    "    except UnicodeDecodeError as e:\n",
    "        print(f\"Error al leer el archivo {input_file}: {e}\")\n",
    "\n"
   ]
  }
 ],
 "metadata": {
  "kernelspec": {
   "display_name": "Python 3",
   "language": "python",
   "name": "python3"
  },
  "language_info": {
   "codemirror_mode": {
    "name": "ipython",
    "version": 3
   },
   "file_extension": ".py",
   "mimetype": "text/x-python",
   "name": "python",
   "nbconvert_exporter": "python",
   "pygments_lexer": "ipython3",
   "version": "3.12.0"
  }
 },
 "nbformat": 4,
 "nbformat_minor": 2
}
